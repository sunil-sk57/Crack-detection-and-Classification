{
  "nbformat": 4,
  "nbformat_minor": 0,
  "metadata": {
    "colab": {
      "name": "Crack detection and Classification",
      "provenance": []
    },
    "kernelspec": {
      "name": "python3",
      "display_name": "Python 3"
    },
    "language_info": {
      "name": "python"
    },
    "accelerator": "GPU",
    "widgets": {
      "application/vnd.jupyter.widget-state+json": {
        "8306b55859be4abab13a67177c7b7614": {
          "model_module": "@jupyter-widgets/controls",
          "model_name": "VBoxModel",
          "state": {
            "_view_name": "VBoxView",
            "_dom_classes": [],
            "_model_name": "VBoxModel",
            "_view_module": "@jupyter-widgets/controls",
            "_model_module_version": "1.5.0",
            "_view_count": null,
            "_view_module_version": "1.5.0",
            "box_style": "",
            "layout": "IPY_MODEL_7ec75014d6dc401e9c6b19e243601230",
            "_model_module": "@jupyter-widgets/controls",
            "children": [
              "IPY_MODEL_621bf252dc304a06a98f1f19c767cfcc",
              "IPY_MODEL_d490c62031244d328623a3cfc8b04967"
            ]
          }
        },
        "7ec75014d6dc401e9c6b19e243601230": {
          "model_module": "@jupyter-widgets/base",
          "model_name": "LayoutModel",
          "state": {
            "_view_name": "LayoutView",
            "grid_template_rows": null,
            "right": null,
            "justify_content": null,
            "_view_module": "@jupyter-widgets/base",
            "overflow": null,
            "_model_module_version": "1.2.0",
            "_view_count": null,
            "flex_flow": null,
            "width": null,
            "min_width": null,
            "border": null,
            "align_items": null,
            "bottom": null,
            "_model_module": "@jupyter-widgets/base",
            "top": null,
            "grid_column": null,
            "overflow_y": null,
            "overflow_x": null,
            "grid_auto_flow": null,
            "grid_area": null,
            "grid_template_columns": null,
            "flex": null,
            "_model_name": "LayoutModel",
            "justify_items": null,
            "grid_row": null,
            "max_height": null,
            "align_content": null,
            "visibility": null,
            "align_self": null,
            "height": null,
            "min_height": null,
            "padding": null,
            "grid_auto_rows": null,
            "grid_gap": null,
            "max_width": null,
            "order": null,
            "_view_module_version": "1.2.0",
            "grid_template_areas": null,
            "object_position": null,
            "object_fit": null,
            "grid_auto_columns": null,
            "margin": null,
            "display": null,
            "left": null
          }
        },
        "621bf252dc304a06a98f1f19c767cfcc": {
          "model_module": "@jupyter-widgets/controls",
          "model_name": "LabelModel",
          "state": {
            "_view_name": "LabelView",
            "style": "IPY_MODEL_c06940aba40a45dc858d8178d38c3b5d",
            "_dom_classes": [],
            "description": "",
            "_model_name": "LabelModel",
            "placeholder": "​",
            "_view_module": "@jupyter-widgets/controls",
            "_model_module_version": "1.5.0",
            "value": " 57.77MB of 57.77MB uploaded (0.00MB deduped)\r",
            "_view_count": null,
            "_view_module_version": "1.5.0",
            "description_tooltip": null,
            "_model_module": "@jupyter-widgets/controls",
            "layout": "IPY_MODEL_e39bc17eba5d46b3a5836d61080320b2"
          }
        },
        "d490c62031244d328623a3cfc8b04967": {
          "model_module": "@jupyter-widgets/controls",
          "model_name": "FloatProgressModel",
          "state": {
            "_view_name": "ProgressView",
            "style": "IPY_MODEL_62f0f70a181b4f7398fbed7ac649eab7",
            "_dom_classes": [],
            "description": "",
            "_model_name": "FloatProgressModel",
            "bar_style": "",
            "max": 1,
            "_view_module": "@jupyter-widgets/controls",
            "_model_module_version": "1.5.0",
            "value": 1,
            "_view_count": null,
            "_view_module_version": "1.5.0",
            "orientation": "horizontal",
            "min": 0,
            "description_tooltip": null,
            "_model_module": "@jupyter-widgets/controls",
            "layout": "IPY_MODEL_0db96e38632c4424aca4eef0d92aef89"
          }
        },
        "c06940aba40a45dc858d8178d38c3b5d": {
          "model_module": "@jupyter-widgets/controls",
          "model_name": "DescriptionStyleModel",
          "state": {
            "_view_name": "StyleView",
            "_model_name": "DescriptionStyleModel",
            "description_width": "",
            "_view_module": "@jupyter-widgets/base",
            "_model_module_version": "1.5.0",
            "_view_count": null,
            "_view_module_version": "1.2.0",
            "_model_module": "@jupyter-widgets/controls"
          }
        },
        "e39bc17eba5d46b3a5836d61080320b2": {
          "model_module": "@jupyter-widgets/base",
          "model_name": "LayoutModel",
          "state": {
            "_view_name": "LayoutView",
            "grid_template_rows": null,
            "right": null,
            "justify_content": null,
            "_view_module": "@jupyter-widgets/base",
            "overflow": null,
            "_model_module_version": "1.2.0",
            "_view_count": null,
            "flex_flow": null,
            "width": null,
            "min_width": null,
            "border": null,
            "align_items": null,
            "bottom": null,
            "_model_module": "@jupyter-widgets/base",
            "top": null,
            "grid_column": null,
            "overflow_y": null,
            "overflow_x": null,
            "grid_auto_flow": null,
            "grid_area": null,
            "grid_template_columns": null,
            "flex": null,
            "_model_name": "LayoutModel",
            "justify_items": null,
            "grid_row": null,
            "max_height": null,
            "align_content": null,
            "visibility": null,
            "align_self": null,
            "height": null,
            "min_height": null,
            "padding": null,
            "grid_auto_rows": null,
            "grid_gap": null,
            "max_width": null,
            "order": null,
            "_view_module_version": "1.2.0",
            "grid_template_areas": null,
            "object_position": null,
            "object_fit": null,
            "grid_auto_columns": null,
            "margin": null,
            "display": null,
            "left": null
          }
        },
        "62f0f70a181b4f7398fbed7ac649eab7": {
          "model_module": "@jupyter-widgets/controls",
          "model_name": "ProgressStyleModel",
          "state": {
            "_view_name": "StyleView",
            "_model_name": "ProgressStyleModel",
            "description_width": "",
            "_view_module": "@jupyter-widgets/base",
            "_model_module_version": "1.5.0",
            "_view_count": null,
            "_view_module_version": "1.2.0",
            "bar_color": null,
            "_model_module": "@jupyter-widgets/controls"
          }
        },
        "0db96e38632c4424aca4eef0d92aef89": {
          "model_module": "@jupyter-widgets/base",
          "model_name": "LayoutModel",
          "state": {
            "_view_name": "LayoutView",
            "grid_template_rows": null,
            "right": null,
            "justify_content": null,
            "_view_module": "@jupyter-widgets/base",
            "overflow": null,
            "_model_module_version": "1.2.0",
            "_view_count": null,
            "flex_flow": null,
            "width": null,
            "min_width": null,
            "border": null,
            "align_items": null,
            "bottom": null,
            "_model_module": "@jupyter-widgets/base",
            "top": null,
            "grid_column": null,
            "overflow_y": null,
            "overflow_x": null,
            "grid_auto_flow": null,
            "grid_area": null,
            "grid_template_columns": null,
            "flex": null,
            "_model_name": "LayoutModel",
            "justify_items": null,
            "grid_row": null,
            "max_height": null,
            "align_content": null,
            "visibility": null,
            "align_self": null,
            "height": null,
            "min_height": null,
            "padding": null,
            "grid_auto_rows": null,
            "grid_gap": null,
            "max_width": null,
            "order": null,
            "_view_module_version": "1.2.0",
            "grid_template_areas": null,
            "object_position": null,
            "object_fit": null,
            "grid_auto_columns": null,
            "margin": null,
            "display": null,
            "left": null
          }
        },
        "59feb568bf07414e87e6251dc2a5e2bc": {
          "model_module": "@jupyter-widgets/controls",
          "model_name": "VBoxModel",
          "state": {
            "_view_name": "VBoxView",
            "_dom_classes": [],
            "_model_name": "VBoxModel",
            "_view_module": "@jupyter-widgets/controls",
            "_model_module_version": "1.5.0",
            "_view_count": null,
            "_view_module_version": "1.5.0",
            "box_style": "",
            "layout": "IPY_MODEL_61498ac2b68f498883c918dd39828403",
            "_model_module": "@jupyter-widgets/controls",
            "children": [
              "IPY_MODEL_4006cbc4488048dda7be2debbaaae496",
              "IPY_MODEL_f72052ab42204de1a45efe8f0598cb83"
            ]
          }
        },
        "61498ac2b68f498883c918dd39828403": {
          "model_module": "@jupyter-widgets/base",
          "model_name": "LayoutModel",
          "state": {
            "_view_name": "LayoutView",
            "grid_template_rows": null,
            "right": null,
            "justify_content": null,
            "_view_module": "@jupyter-widgets/base",
            "overflow": null,
            "_model_module_version": "1.2.0",
            "_view_count": null,
            "flex_flow": null,
            "width": null,
            "min_width": null,
            "border": null,
            "align_items": null,
            "bottom": null,
            "_model_module": "@jupyter-widgets/base",
            "top": null,
            "grid_column": null,
            "overflow_y": null,
            "overflow_x": null,
            "grid_auto_flow": null,
            "grid_area": null,
            "grid_template_columns": null,
            "flex": null,
            "_model_name": "LayoutModel",
            "justify_items": null,
            "grid_row": null,
            "max_height": null,
            "align_content": null,
            "visibility": null,
            "align_self": null,
            "height": null,
            "min_height": null,
            "padding": null,
            "grid_auto_rows": null,
            "grid_gap": null,
            "max_width": null,
            "order": null,
            "_view_module_version": "1.2.0",
            "grid_template_areas": null,
            "object_position": null,
            "object_fit": null,
            "grid_auto_columns": null,
            "margin": null,
            "display": null,
            "left": null
          }
        },
        "4006cbc4488048dda7be2debbaaae496": {
          "model_module": "@jupyter-widgets/controls",
          "model_name": "LabelModel",
          "state": {
            "_view_name": "LabelView",
            "style": "IPY_MODEL_e827d9921a3242fc8173ef6aa1df04c5",
            "_dom_classes": [],
            "description": "",
            "_model_name": "LabelModel",
            "placeholder": "​",
            "_view_module": "@jupyter-widgets/controls",
            "_model_module_version": "1.5.0",
            "value": " 113.24MB of 113.24MB uploaded (0.00MB deduped)\r",
            "_view_count": null,
            "_view_module_version": "1.5.0",
            "description_tooltip": null,
            "_model_module": "@jupyter-widgets/controls",
            "layout": "IPY_MODEL_0fe7f7df273f4e39a4c1c1e5da15f581"
          }
        },
        "f72052ab42204de1a45efe8f0598cb83": {
          "model_module": "@jupyter-widgets/controls",
          "model_name": "FloatProgressModel",
          "state": {
            "_view_name": "ProgressView",
            "style": "IPY_MODEL_2616ea91c59340bb9ffc48d44c4cdb62",
            "_dom_classes": [],
            "description": "",
            "_model_name": "FloatProgressModel",
            "bar_style": "",
            "max": 1,
            "_view_module": "@jupyter-widgets/controls",
            "_model_module_version": "1.5.0",
            "value": 1,
            "_view_count": null,
            "_view_module_version": "1.5.0",
            "orientation": "horizontal",
            "min": 0,
            "description_tooltip": null,
            "_model_module": "@jupyter-widgets/controls",
            "layout": "IPY_MODEL_30b0fab8275f464190acd9962fddc77d"
          }
        },
        "e827d9921a3242fc8173ef6aa1df04c5": {
          "model_module": "@jupyter-widgets/controls",
          "model_name": "DescriptionStyleModel",
          "state": {
            "_view_name": "StyleView",
            "_model_name": "DescriptionStyleModel",
            "description_width": "",
            "_view_module": "@jupyter-widgets/base",
            "_model_module_version": "1.5.0",
            "_view_count": null,
            "_view_module_version": "1.2.0",
            "_model_module": "@jupyter-widgets/controls"
          }
        },
        "0fe7f7df273f4e39a4c1c1e5da15f581": {
          "model_module": "@jupyter-widgets/base",
          "model_name": "LayoutModel",
          "state": {
            "_view_name": "LayoutView",
            "grid_template_rows": null,
            "right": null,
            "justify_content": null,
            "_view_module": "@jupyter-widgets/base",
            "overflow": null,
            "_model_module_version": "1.2.0",
            "_view_count": null,
            "flex_flow": null,
            "width": null,
            "min_width": null,
            "border": null,
            "align_items": null,
            "bottom": null,
            "_model_module": "@jupyter-widgets/base",
            "top": null,
            "grid_column": null,
            "overflow_y": null,
            "overflow_x": null,
            "grid_auto_flow": null,
            "grid_area": null,
            "grid_template_columns": null,
            "flex": null,
            "_model_name": "LayoutModel",
            "justify_items": null,
            "grid_row": null,
            "max_height": null,
            "align_content": null,
            "visibility": null,
            "align_self": null,
            "height": null,
            "min_height": null,
            "padding": null,
            "grid_auto_rows": null,
            "grid_gap": null,
            "max_width": null,
            "order": null,
            "_view_module_version": "1.2.0",
            "grid_template_areas": null,
            "object_position": null,
            "object_fit": null,
            "grid_auto_columns": null,
            "margin": null,
            "display": null,
            "left": null
          }
        },
        "2616ea91c59340bb9ffc48d44c4cdb62": {
          "model_module": "@jupyter-widgets/controls",
          "model_name": "ProgressStyleModel",
          "state": {
            "_view_name": "StyleView",
            "_model_name": "ProgressStyleModel",
            "description_width": "",
            "_view_module": "@jupyter-widgets/base",
            "_model_module_version": "1.5.0",
            "_view_count": null,
            "_view_module_version": "1.2.0",
            "bar_color": null,
            "_model_module": "@jupyter-widgets/controls"
          }
        },
        "30b0fab8275f464190acd9962fddc77d": {
          "model_module": "@jupyter-widgets/base",
          "model_name": "LayoutModel",
          "state": {
            "_view_name": "LayoutView",
            "grid_template_rows": null,
            "right": null,
            "justify_content": null,
            "_view_module": "@jupyter-widgets/base",
            "overflow": null,
            "_model_module_version": "1.2.0",
            "_view_count": null,
            "flex_flow": null,
            "width": null,
            "min_width": null,
            "border": null,
            "align_items": null,
            "bottom": null,
            "_model_module": "@jupyter-widgets/base",
            "top": null,
            "grid_column": null,
            "overflow_y": null,
            "overflow_x": null,
            "grid_auto_flow": null,
            "grid_area": null,
            "grid_template_columns": null,
            "flex": null,
            "_model_name": "LayoutModel",
            "justify_items": null,
            "grid_row": null,
            "max_height": null,
            "align_content": null,
            "visibility": null,
            "align_self": null,
            "height": null,
            "min_height": null,
            "padding": null,
            "grid_auto_rows": null,
            "grid_gap": null,
            "max_width": null,
            "order": null,
            "_view_module_version": "1.2.0",
            "grid_template_areas": null,
            "object_position": null,
            "object_fit": null,
            "grid_auto_columns": null,
            "margin": null,
            "display": null,
            "left": null
          }
        }
      }
    }
  },
  "cells": [
    {
      "cell_type": "code",
      "metadata": {
        "colab": {
          "base_uri": "https://localhost:8080/"
        },
        "id": "cbCbQthOGr2J",
        "outputId": "dcdca958-1b52-4a00-e2a2-a214b0b56e04"
      },
      "source": [
        "from google.colab import drive\n",
        "drive.mount('/content/drive/')"
      ],
      "execution_count": null,
      "outputs": [
        {
          "output_type": "stream",
          "text": [
            "Drive already mounted at /content/drive/; to attempt to forcibly remount, call drive.mount(\"/content/drive/\", force_remount=True).\n"
          ],
          "name": "stdout"
        }
      ]
    },
    {
      "cell_type": "code",
      "metadata": {
        "id": "J17956hvvow5"
      },
      "source": [
        "import os\n",
        "pos_data = []\n",
        "for filename in os.listdir('/content/drive/MyDrive/Train_concrete_images/Positive'):\n",
        "  pos_data.append(filename)\n",
        "neg_data = []\n",
        "for filename in os.listdir('/content/drive/MyDrive/Train_concrete_images/Negative'):\n",
        "  neg_data.append(filename)"
      ],
      "execution_count": null,
      "outputs": []
    },
    {
      "cell_type": "code",
      "metadata": {
        "colab": {
          "base_uri": "https://localhost:8080/"
        },
        "id": "dTcMXJYGv1QA",
        "outputId": "3647b90b-983f-4a88-d002-89a8d277ba09"
      },
      "source": [
        "len(pos_data), len(neg_data)"
      ],
      "execution_count": null,
      "outputs": [
        {
          "output_type": "execute_result",
          "data": {
            "text/plain": [
              "(18000, 18000)"
            ]
          },
          "metadata": {
            "tags": []
          },
          "execution_count": 5
        }
      ]
    },
    {
      "cell_type": "code",
      "metadata": {
        "id": "c62XomrYcEKn"
      },
      "source": [
        "import keras\n",
        "from keras.models import Sequential\n",
        "from keras.layers import Dense, Conv2D, Flatten,BatchNormalization,Dropout,Activation ,MaxPooling2D\n",
        "from keras.preprocessing.image import ImageDataGenerator\n",
        "from keras.losses import BinaryCrossentropy\n",
        "import PIL\n",
        "from keras.callbacks import EarlyStopping\n",
        "from keras import optimizers"
      ],
      "execution_count": null,
      "outputs": []
    },
    {
      "cell_type": "code",
      "metadata": {
        "id": "t5HGfu6FeroX"
      },
      "source": [
        "def cnn(n,num_filters,ker_size_input,ker_size,activ,pool,num_nodes,filter_org,bn_vs_dp,bn=0,dp='no'):  \n",
        "\n",
        "  model = Sequential()\n",
        "  model.add(Conv2D(num_filters, (ker_size_input, ker_size_input), input_shape=(227,227,3)))\n",
        "  model.add(Activation(activ))\n",
        "  model.add(MaxPooling2D(pool_size=(pool, pool)))\n",
        "\n",
        "  for i in range(1,n):\n",
        "  \n",
        "    if filter_org=='same':\n",
        "      num_filters= num_filters\n",
        "    elif filter_org=='double':\n",
        "      num_filters*=2\n",
        "    else:\n",
        "      num_filters//=2\n",
        "      \n",
        "        \n",
        "    model.add(Conv2D(num_filters, (ker_size, ker_size)))\n",
        "\n",
        "    if bn:\n",
        "        model.add(BatchNormalization())\n",
        "        \n",
        "    model.add(Activation(activ))\n",
        "    model.add(MaxPooling2D(pool_size=(pool, pool)))\n",
        "      \n",
        "  model.add(Flatten())\n",
        "  model.add(Dense(num_nodes))\n",
        "\n",
        "  \n",
        "  if bn_vs_dp == 'dp':\n",
        "    model.add(Dropout(dp))\n",
        "  else:\n",
        "    model.add(BatchNormalization())\n",
        "\n",
        "  model.add(Activation(activ))\n",
        "      \n",
        "  model.add(Dense(1, activation='sigmoid'))\n",
        "\n",
        "  return model"
      ],
      "execution_count": null,
      "outputs": []
    },
    {
      "cell_type": "code",
      "metadata": {
        "id": "X5hrONoreyOK"
      },
      "source": [
        "def train():\n",
        "  default_hyperparams = dict(\n",
        "    bn=0,\n",
        "    num_filters=64,\n",
        "    fliter_org='same',\n",
        "    dropout=0,\n",
        "    data_aug=0,\n",
        "    learning_rate=0.01,\n",
        "    epochs=5,\n",
        "    activ=\"ReLU\",\n",
        "    optimizer = 'Adam',\n",
        "    batch_size=32,\n",
        "    ker_size_input=5,\n",
        "    bn_vs_dp='bn'\n",
        "  )\n",
        "\n",
        "    \n",
        "    \n",
        "  wandb.init(config = default_hyperparams)\n",
        "  config = wandb.config\n",
        "\n",
        "  wandb.run.name = 'bn='+str(config.bn)+'num_filters='+str(config.num_filters)+'_'+'filter_org='+str(config.filter_org)+'_dp='+str(config.dropout)+'_data_aug='+str(config.data_aug)+'_lr='+str(config.learning_rate)+'_optimizer='+str(config.optimizer)+'_batch_size='+str(config.batch_size)+'_epochs='+str(config.epochs)+'_activation='+str(config.activ)+'_ker_size='+str(config.ker_size_input)+'_bn_vs_dp'+str(config.bn_vs_dp)\n",
        "  wandb.run.save()\n",
        "\n",
        "  train_data_dir= '/content/drive/MyDrive/Train_concrete_images'\n",
        "\n",
        "  batch_size=config.batch_size\n",
        "\n",
        "  if config.data_aug:\n",
        "      \n",
        "    train_datagen = ImageDataGenerator(\n",
        "    rescale=1./255,\n",
        "    rotation_range=45, \n",
        "    width_shift_range=.15, \n",
        "    height_shift_range=.15, \n",
        "    horizontal_flip=True, \n",
        "    zoom_range=0.5,\n",
        "    validation_split=0.1) \n",
        "\n",
        "  else:\n",
        "      \n",
        "    train_datagen = ImageDataGenerator(\n",
        "    rescale=1./255,\n",
        "    validation_split=0.1) # set validation split\n",
        "  \n",
        "    \n",
        "\n",
        "  train_it = train_datagen.flow_from_directory(\n",
        "      train_data_dir,\n",
        "      target_size=(227,227),\n",
        "      batch_size=batch_size,\n",
        "      class_mode='binary',\n",
        "      subset='training') # set as training data\n",
        "\n",
        "  val_it = train_datagen.flow_from_directory(\n",
        "      train_data_dir, # same directory as training data\n",
        "      target_size=(227,227),\n",
        "      batch_size=batch_size,\n",
        "      class_mode='binary',\n",
        "      subset='validation') # set as validation data\n",
        "  \n",
        "  # Your model here ...\n",
        "  model = cnn(4,config.num_filters,config.ker_size_input,3,config.activ,2,1024,config.filter_org,config.bn_vs_dp,config.bn,config.dropout)\n",
        "\n",
        "  if config.optimizer == 'Adam':\n",
        "    model.compile(optimizers.Adam(learning_rate=config.learning_rate, decay=1e-6), loss=BinaryCrossentropy(), metrics='acc')\n",
        "  else:              #elif config.optimizer == 'rmsprop':\n",
        "    model.compile(optimizers.RMSprop(learning_rate=config.learning_rate, decay=1e-6), loss=BinaryCrossentropy(), metrics='acc')\n",
        " \n",
        "  \n",
        "  model.fit(\n",
        "  train_it,\n",
        "  steps_per_epoch = train_it.samples //batch_size,\n",
        "  validation_data = val_it, \n",
        "  validation_steps = val_it.samples // batch_size,\n",
        "  epochs = config.epochs,\n",
        "  callbacks=[WandbCallback(data_type='image',validation_data = val_it,verbose=1),EarlyStopping(patience=10,restore_best_weights=True)])"
      ],
      "execution_count": null,
      "outputs": []
    },
    {
      "cell_type": "code",
      "metadata": {
        "id": "0bxbKFWuc7jt"
      },
      "source": [
        "sweep_config = {\n",
        "   #'program': train(),\n",
        "    'method': 'bayes',         \n",
        "    'metric': {\n",
        "        'name': 'val_accuracy',     \n",
        "        'goal': 'maximize'      \n",
        "    },\n",
        "    'parameters': {\n",
        "        'learning_rate': {\n",
        "            'values': [1e-3,1e-4]\n",
        "        },\n",
        "        'activ': {\n",
        "            'values': ['relu']\n",
        "        },\n",
        "        'bn': {\n",
        "            'values': [0,1]\n",
        "        },\n",
        "        'num_filters': {\n",
        "            'values': [32, 64, 128]\n",
        "        },\n",
        "        'filter_org': {\n",
        "            'values': [ 'same']\n",
        "        },\n",
        "        'epochs': {\n",
        "            'min': 3,\n",
        "\t          'max': 5\n",
        "        },\n",
        "        'dropout': {\n",
        "            'values': [0, 0.2, 0.3, 0.1, 0.4, 0.5]\n",
        "        },\n",
        "        'data_aug': {\n",
        "            'values': [0,1]\n",
        "        },\n",
        "        'optimizer' : {\n",
        "            'values': ['Adam','rmsprop']\n",
        "        },\n",
        "\n",
        "        'batch_size': {\n",
        "            'values': [32, 64]\n",
        "        },\n",
        "        'ker_size_input':{\n",
        "            'values':[3, 5, 7]\n",
        "        },\n",
        "        'bn_vs_dp':{\n",
        "            'values':['bn', 'dp']\n",
        "        }\n",
        "\n",
        "        }\n",
        "    }\n",
        "\n"
      ],
      "execution_count": null,
      "outputs": []
    },
    {
      "cell_type": "code",
      "metadata": {
        "id": "VeybwNmpdlw-",
        "colab": {
          "base_uri": "https://localhost:8080/"
        },
        "outputId": "b82b3c81-8407-42ec-a183-670767e1a296"
      },
      "source": [
        "! pip install wandb"
      ],
      "execution_count": null,
      "outputs": [
        {
          "output_type": "stream",
          "text": [
            "Collecting wandb\n",
            "\u001b[?25l  Downloading https://files.pythonhosted.org/packages/6c/48/b199e2b3b341ac842108c5db4956091dd75d961cfa77aceb033e99cac20f/wandb-0.10.31-py2.py3-none-any.whl (1.8MB)\n",
            "\u001b[K     |████████████████████████████████| 1.8MB 2.9MB/s \n",
            "\u001b[?25hRequirement already satisfied: python-dateutil>=2.6.1 in /usr/local/lib/python3.7/dist-packages (from wandb) (2.8.1)\n",
            "Requirement already satisfied: promise<3,>=2.0 in /usr/local/lib/python3.7/dist-packages (from wandb) (2.3)\n",
            "Collecting GitPython>=1.0.0\n",
            "\u001b[?25l  Downloading https://files.pythonhosted.org/packages/27/da/6f6224fdfc47dab57881fe20c0d1bc3122be290198ba0bf26a953a045d92/GitPython-3.1.17-py3-none-any.whl (166kB)\n",
            "\u001b[K     |████████████████████████████████| 174kB 18.8MB/s \n",
            "\u001b[?25hRequirement already satisfied: Click>=7.0 in /usr/local/lib/python3.7/dist-packages (from wandb) (7.1.2)\n",
            "Collecting pathtools\n",
            "  Downloading https://files.pythonhosted.org/packages/e7/7f/470d6fcdf23f9f3518f6b0b76be9df16dcc8630ad409947f8be2eb0ed13a/pathtools-0.1.2.tar.gz\n",
            "Collecting sentry-sdk>=0.4.0\n",
            "\u001b[?25l  Downloading https://files.pythonhosted.org/packages/1c/4a/a54b254f67d8f4052338d54ebe90126f200693440a93ef76d254d581e3ec/sentry_sdk-1.1.0-py2.py3-none-any.whl (131kB)\n",
            "\u001b[K     |████████████████████████████████| 133kB 18.7MB/s \n",
            "\u001b[?25hCollecting configparser>=3.8.1\n",
            "  Downloading https://files.pythonhosted.org/packages/fd/01/ff260a18caaf4457eb028c96eeb405c4a230ca06c8ec9c1379f813caa52e/configparser-5.0.2-py3-none-any.whl\n",
            "Requirement already satisfied: PyYAML in /usr/local/lib/python3.7/dist-packages (from wandb) (3.13)\n",
            "Collecting docker-pycreds>=0.4.0\n",
            "  Downloading https://files.pythonhosted.org/packages/f5/e8/f6bd1eee09314e7e6dee49cbe2c5e22314ccdb38db16c9fc72d2fa80d054/docker_pycreds-0.4.0-py2.py3-none-any.whl\n",
            "Requirement already satisfied: protobuf>=3.12.0 in /usr/local/lib/python3.7/dist-packages (from wandb) (3.12.4)\n",
            "Collecting subprocess32>=3.5.3\n",
            "\u001b[?25l  Downloading https://files.pythonhosted.org/packages/32/c8/564be4d12629b912ea431f1a50eb8b3b9d00f1a0b1ceff17f266be190007/subprocess32-3.5.4.tar.gz (97kB)\n",
            "\u001b[K     |████████████████████████████████| 102kB 8.7MB/s \n",
            "\u001b[?25hCollecting shortuuid>=0.5.0\n",
            "  Downloading https://files.pythonhosted.org/packages/25/a6/2ecc1daa6a304e7f1b216f0896b26156b78e7c38e1211e9b798b4716c53d/shortuuid-1.0.1-py3-none-any.whl\n",
            "Requirement already satisfied: six>=1.13.0 in /usr/local/lib/python3.7/dist-packages (from wandb) (1.15.0)\n",
            "Requirement already satisfied: requests<3,>=2.0.0 in /usr/local/lib/python3.7/dist-packages (from wandb) (2.23.0)\n",
            "Requirement already satisfied: psutil>=5.0.0 in /usr/local/lib/python3.7/dist-packages (from wandb) (5.4.8)\n",
            "Collecting gitdb<5,>=4.0.1\n",
            "\u001b[?25l  Downloading https://files.pythonhosted.org/packages/ea/e8/f414d1a4f0bbc668ed441f74f44c116d9816833a48bf81d22b697090dba8/gitdb-4.0.7-py3-none-any.whl (63kB)\n",
            "\u001b[K     |████████████████████████████████| 71kB 7.0MB/s \n",
            "\u001b[?25hRequirement already satisfied: typing-extensions>=3.7.4.0; python_version < \"3.8\" in /usr/local/lib/python3.7/dist-packages (from GitPython>=1.0.0->wandb) (3.7.4.3)\n",
            "Requirement already satisfied: certifi in /usr/local/lib/python3.7/dist-packages (from sentry-sdk>=0.4.0->wandb) (2020.12.5)\n",
            "Requirement already satisfied: urllib3>=1.10.0 in /usr/local/lib/python3.7/dist-packages (from sentry-sdk>=0.4.0->wandb) (1.24.3)\n",
            "Requirement already satisfied: setuptools in /usr/local/lib/python3.7/dist-packages (from protobuf>=3.12.0->wandb) (57.0.0)\n",
            "Requirement already satisfied: chardet<4,>=3.0.2 in /usr/local/lib/python3.7/dist-packages (from requests<3,>=2.0.0->wandb) (3.0.4)\n",
            "Requirement already satisfied: idna<3,>=2.5 in /usr/local/lib/python3.7/dist-packages (from requests<3,>=2.0.0->wandb) (2.10)\n",
            "Collecting smmap<5,>=3.0.1\n",
            "  Downloading https://files.pythonhosted.org/packages/68/ee/d540eb5e5996eb81c26ceffac6ee49041d473bc5125f2aa995cf51ec1cf1/smmap-4.0.0-py2.py3-none-any.whl\n",
            "Building wheels for collected packages: pathtools, subprocess32\n",
            "  Building wheel for pathtools (setup.py) ... \u001b[?25l\u001b[?25hdone\n",
            "  Created wheel for pathtools: filename=pathtools-0.1.2-cp37-none-any.whl size=8807 sha256=34265524128589f4a93709b2d7b6e0bd6b4dda659180db2fc596fcbf8d89d670\n",
            "  Stored in directory: /root/.cache/pip/wheels/0b/04/79/c3b0c3a0266a3cb4376da31e5bfe8bba0c489246968a68e843\n",
            "  Building wheel for subprocess32 (setup.py) ... \u001b[?25l\u001b[?25hdone\n",
            "  Created wheel for subprocess32: filename=subprocess32-3.5.4-cp37-none-any.whl size=6502 sha256=88491ef7eaae4e3e64c78464ef258ed7f02bd89a8422a2c627a7266f3660835e\n",
            "  Stored in directory: /root/.cache/pip/wheels/68/39/1a/5e402bdfdf004af1786c8b853fd92f8c4a04f22aad179654d1\n",
            "Successfully built pathtools subprocess32\n",
            "Installing collected packages: smmap, gitdb, GitPython, pathtools, sentry-sdk, configparser, docker-pycreds, subprocess32, shortuuid, wandb\n",
            "Successfully installed GitPython-3.1.17 configparser-5.0.2 docker-pycreds-0.4.0 gitdb-4.0.7 pathtools-0.1.2 sentry-sdk-1.1.0 shortuuid-1.0.1 smmap-4.0.0 subprocess32-3.5.4 wandb-0.10.31\n"
          ],
          "name": "stdout"
        }
      ]
    },
    {
      "cell_type": "code",
      "metadata": {
        "id": "UfH8wDIjdnzg"
      },
      "source": [
        "import wandb\n",
        "from wandb.keras import WandbCallback"
      ],
      "execution_count": null,
      "outputs": []
    },
    {
      "cell_type": "code",
      "metadata": {
        "colab": {
          "base_uri": "https://localhost:8080/"
        },
        "id": "BAZYJEi4dtOj",
        "outputId": "87ba5f05-5c7a-4958-b2fa-33ef1948e058"
      },
      "source": [
        "wandb.login(key='d1ceb7eee4b7974dd2a8169c606b3c0d311c3276')"
      ],
      "execution_count": null,
      "outputs": [
        {
          "output_type": "stream",
          "text": [
            "\u001b[34m\u001b[1mwandb\u001b[0m: W&B API key is configured (use `wandb login --relogin` to force relogin)\n",
            "\u001b[34m\u001b[1mwandb\u001b[0m: \u001b[33mWARNING\u001b[0m If you're specifying your api key in code, ensure this code is not shared publically.\n",
            "\u001b[34m\u001b[1mwandb\u001b[0m: \u001b[33mWARNING\u001b[0m Consider setting the WANDB_API_KEY environment variable, or running `wandb login` from the command line.\n",
            "\u001b[34m\u001b[1mwandb\u001b[0m: Appending key for api.wandb.ai to your netrc file: /root/.netrc\n"
          ],
          "name": "stderr"
        },
        {
          "output_type": "execute_result",
          "data": {
            "text/plain": [
              "True"
            ]
          },
          "metadata": {
            "tags": []
          },
          "execution_count": 12
        }
      ]
    },
    {
      "cell_type": "code",
      "metadata": {
        "colab": {
          "base_uri": "https://localhost:8080/"
        },
        "id": "oH6vMcoLdZyv",
        "outputId": "1e073b87-729f-4e0d-974a-07643792e29c"
      },
      "source": [
        "sweep_id = wandb.sweep(sweep_config,project='BTP')"
      ],
      "execution_count": null,
      "outputs": [
        {
          "output_type": "stream",
          "text": [
            "Create sweep with ID: j8fefv6v\n",
            "Sweep URL: https://wandb.ai/dl_assgn/BTP/sweeps/j8fefv6v\n"
          ],
          "name": "stdout"
        }
      ]
    },
    {
      "cell_type": "code",
      "metadata": {
        "colab": {
          "base_uri": "https://localhost:8080/",
          "height": 1000,
          "referenced_widgets": [
            "8306b55859be4abab13a67177c7b7614",
            "7ec75014d6dc401e9c6b19e243601230",
            "621bf252dc304a06a98f1f19c767cfcc",
            "d490c62031244d328623a3cfc8b04967",
            "c06940aba40a45dc858d8178d38c3b5d",
            "e39bc17eba5d46b3a5836d61080320b2",
            "62f0f70a181b4f7398fbed7ac649eab7",
            "0db96e38632c4424aca4eef0d92aef89",
            "59feb568bf07414e87e6251dc2a5e2bc",
            "61498ac2b68f498883c918dd39828403",
            "4006cbc4488048dda7be2debbaaae496",
            "f72052ab42204de1a45efe8f0598cb83",
            "e827d9921a3242fc8173ef6aa1df04c5",
            "0fe7f7df273f4e39a4c1c1e5da15f581",
            "2616ea91c59340bb9ffc48d44c4cdb62",
            "30b0fab8275f464190acd9962fddc77d"
          ]
        },
        "id": "ov1qXvzMdhgC",
        "outputId": "3e16c9fc-0ddf-4302-bd21-e330fff5df65"
      },
      "source": [
        "wandb.agent(sweep_id, function=train)"
      ],
      "execution_count": null,
      "outputs": [
        {
          "output_type": "stream",
          "text": [
            "\u001b[34m\u001b[1mwandb\u001b[0m: Agent Starting Run: 7w757cwb with config:\n",
            "\u001b[34m\u001b[1mwandb\u001b[0m: \tactiv: relu\n",
            "\u001b[34m\u001b[1mwandb\u001b[0m: \tbatch_size: 32\n",
            "\u001b[34m\u001b[1mwandb\u001b[0m: \tbn: 0\n",
            "\u001b[34m\u001b[1mwandb\u001b[0m: \tbn_vs_dp: bn\n",
            "\u001b[34m\u001b[1mwandb\u001b[0m: \tdata_aug: 1\n",
            "\u001b[34m\u001b[1mwandb\u001b[0m: \tdropout: 0.2\n",
            "\u001b[34m\u001b[1mwandb\u001b[0m: \tepochs: 3\n",
            "\u001b[34m\u001b[1mwandb\u001b[0m: \tfilter_org: same\n",
            "\u001b[34m\u001b[1mwandb\u001b[0m: \tker_size_input: 3\n",
            "\u001b[34m\u001b[1mwandb\u001b[0m: \tlearning_rate: 0.0001\n",
            "\u001b[34m\u001b[1mwandb\u001b[0m: \tnum_filters: 32\n",
            "\u001b[34m\u001b[1mwandb\u001b[0m: \toptimizer: Adam\n",
            "\u001b[34m\u001b[1mwandb\u001b[0m: Currently logged in as: \u001b[33mdl_assgn\u001b[0m (use `wandb login --relogin` to force relogin)\n"
          ],
          "name": "stderr"
        },
        {
          "output_type": "display_data",
          "data": {
            "text/html": [
              "\n",
              "                Tracking run with wandb version 0.10.31<br/>\n",
              "                Syncing run <strong style=\"color:#cdcd00\">fresh-sweep-1</strong> to <a href=\"https://wandb.ai\" target=\"_blank\">Weights & Biases</a> <a href=\"https://docs.wandb.com/integrations/jupyter.html\" target=\"_blank\">(Documentation)</a>.<br/>\n",
              "                Project page: <a href=\"https://wandb.ai/dl_assgn/BTP\" target=\"_blank\">https://wandb.ai/dl_assgn/BTP</a><br/>\n",
              "                Sweep page: <a href=\"https://wandb.ai/dl_assgn/BTP/sweeps/j8fefv6v\" target=\"_blank\">https://wandb.ai/dl_assgn/BTP/sweeps/j8fefv6v</a><br/>\n",
              "Run page: <a href=\"https://wandb.ai/dl_assgn/BTP/runs/7w757cwb\" target=\"_blank\">https://wandb.ai/dl_assgn/BTP/runs/7w757cwb</a><br/>\n",
              "                Run data is saved locally in <code>/content/wandb/run-20210604_131358-7w757cwb</code><br/><br/>\n",
              "            "
            ],
            "text/plain": [
              "<IPython.core.display.HTML object>"
            ]
          },
          "metadata": {
            "tags": []
          }
        },
        {
          "output_type": "stream",
          "text": [
            "\u001b[34m\u001b[1mwandb\u001b[0m: \u001b[33mWARNING\u001b[0m Calling run.save without any arguments is deprecated.Changes to attributes are automatically persisted.\n"
          ],
          "name": "stderr"
        },
        {
          "output_type": "stream",
          "text": [
            "Found 32400 images belonging to 2 classes.\n",
            "Found 3600 images belonging to 2 classes.\n",
            "Epoch 1/3\n",
            "1012/1012 [==============================] - 22098s 22s/step - loss: 0.1453 - acc: 0.9459 - val_loss: 0.0731 - val_acc: 0.9741\n",
            "Epoch 00000: val_loss improved from inf to 0.07313, saving model to /content/wandb/run-20210604_131358-7w757cwb/files/model-best.h5\n",
            "Epoch 2/3\n",
            "1012/1012 [==============================] - 558s 552ms/step - loss: 0.0491 - acc: 0.9850 - val_loss: 0.6917 - val_acc: 0.7949\n",
            "Epoch 3/3\n",
            "1012/1012 [==============================] - 552s 545ms/step - loss: 0.0408 - acc: 0.9882 - val_loss: 0.1423 - val_acc: 0.9632\n"
          ],
          "name": "stdout"
        },
        {
          "output_type": "display_data",
          "data": {
            "text/html": [
              "<br/>Waiting for W&B process to finish, PID 373<br/>Program ended successfully."
            ],
            "text/plain": [
              "<IPython.core.display.HTML object>"
            ]
          },
          "metadata": {
            "tags": []
          }
        },
        {
          "output_type": "display_data",
          "data": {
            "application/vnd.jupyter.widget-view+json": {
              "model_id": "8306b55859be4abab13a67177c7b7614",
              "version_minor": 0,
              "version_major": 2
            },
            "text/plain": [
              "VBox(children=(Label(value=' 57.75MB of 57.75MB uploaded (0.00MB deduped)\\r'), FloatProgress(value=1.0, max=1.…"
            ]
          },
          "metadata": {
            "tags": []
          }
        },
        {
          "output_type": "display_data",
          "data": {
            "text/html": [
              "Find user logs for this run at: <code>/content/wandb/run-20210604_131358-7w757cwb/logs/debug.log</code>"
            ],
            "text/plain": [
              "<IPython.core.display.HTML object>"
            ]
          },
          "metadata": {
            "tags": []
          }
        },
        {
          "output_type": "display_data",
          "data": {
            "text/html": [
              "Find internal logs for this run at: <code>/content/wandb/run-20210604_131358-7w757cwb/logs/debug-internal.log</code>"
            ],
            "text/plain": [
              "<IPython.core.display.HTML object>"
            ]
          },
          "metadata": {
            "tags": []
          }
        },
        {
          "output_type": "display_data",
          "data": {
            "text/html": [
              "<h3>Run summary:</h3><br/><style>\n",
              "    table.wandb td:nth-child(1) { padding: 0 10px; text-align: right }\n",
              "    </style><table class=\"wandb\">\n",
              "<tr><td>epoch</td><td>2</td></tr><tr><td>loss</td><td>0.04128</td></tr><tr><td>acc</td><td>0.98851</td></tr><tr><td>val_loss</td><td>0.14235</td></tr><tr><td>val_acc</td><td>0.96317</td></tr><tr><td>_runtime</td><td>23265</td></tr><tr><td>_timestamp</td><td>1622835703</td></tr><tr><td>_step</td><td>2</td></tr><tr><td>best_val_loss</td><td>0.07313</td></tr><tr><td>best_epoch</td><td>0</td></tr></table>"
            ],
            "text/plain": [
              "<IPython.core.display.HTML object>"
            ]
          },
          "metadata": {
            "tags": []
          }
        },
        {
          "output_type": "display_data",
          "data": {
            "text/html": [
              "<h3>Run history:</h3><br/><style>\n",
              "    table.wandb td:nth-child(1) { padding: 0 10px; text-align: right }\n",
              "    </style><table class=\"wandb\">\n",
              "<tr><td>epoch</td><td>▁▅█</td></tr><tr><td>loss</td><td>█▂▁</td></tr><tr><td>acc</td><td>▁▇█</td></tr><tr><td>val_loss</td><td>▁█▂</td></tr><tr><td>val_acc</td><td>█▁█</td></tr><tr><td>_runtime</td><td>▁▅█</td></tr><tr><td>_timestamp</td><td>▁▅█</td></tr><tr><td>_step</td><td>▁▅█</td></tr></table><br/>"
            ],
            "text/plain": [
              "<IPython.core.display.HTML object>"
            ]
          },
          "metadata": {
            "tags": []
          }
        },
        {
          "output_type": "display_data",
          "data": {
            "text/html": [
              "Synced 5 W&B file(s), 97 media file(s), 0 artifact file(s) and 2 other file(s)"
            ],
            "text/plain": [
              "<IPython.core.display.HTML object>"
            ]
          },
          "metadata": {
            "tags": []
          }
        },
        {
          "output_type": "display_data",
          "data": {
            "text/html": [
              "\n",
              "                    <br/>Synced <strong style=\"color:#cdcd00\">fresh-sweep-1</strong>: <a href=\"https://wandb.ai/dl_assgn/BTP/runs/7w757cwb\" target=\"_blank\">https://wandb.ai/dl_assgn/BTP/runs/7w757cwb</a><br/>\n",
              "                "
            ],
            "text/plain": [
              "<IPython.core.display.HTML object>"
            ]
          },
          "metadata": {
            "tags": []
          }
        },
        {
          "output_type": "stream",
          "text": [
            "\u001b[34m\u001b[1mwandb\u001b[0m: Agent Starting Run: oz53dtad with config:\n",
            "\u001b[34m\u001b[1mwandb\u001b[0m: \tactiv: relu\n",
            "\u001b[34m\u001b[1mwandb\u001b[0m: \tbatch_size: 32\n",
            "\u001b[34m\u001b[1mwandb\u001b[0m: \tbn: 1\n",
            "\u001b[34m\u001b[1mwandb\u001b[0m: \tbn_vs_dp: bn\n",
            "\u001b[34m\u001b[1mwandb\u001b[0m: \tdata_aug: 0\n",
            "\u001b[34m\u001b[1mwandb\u001b[0m: \tdropout: 0.5\n",
            "\u001b[34m\u001b[1mwandb\u001b[0m: \tepochs: 3\n",
            "\u001b[34m\u001b[1mwandb\u001b[0m: \tfilter_org: same\n",
            "\u001b[34m\u001b[1mwandb\u001b[0m: \tker_size_input: 7\n",
            "\u001b[34m\u001b[1mwandb\u001b[0m: \tlearning_rate: 0.0001\n",
            "\u001b[34m\u001b[1mwandb\u001b[0m: \tnum_filters: 64\n",
            "\u001b[34m\u001b[1mwandb\u001b[0m: \toptimizer: Adam\n"
          ],
          "name": "stderr"
        },
        {
          "output_type": "display_data",
          "data": {
            "text/html": [
              "\n",
              "                Tracking run with wandb version 0.10.31<br/>\n",
              "                Syncing run <strong style=\"color:#cdcd00\">autumn-sweep-2</strong> to <a href=\"https://wandb.ai\" target=\"_blank\">Weights & Biases</a> <a href=\"https://docs.wandb.com/integrations/jupyter.html\" target=\"_blank\">(Documentation)</a>.<br/>\n",
              "                Project page: <a href=\"https://wandb.ai/dl_assgn/BTP\" target=\"_blank\">https://wandb.ai/dl_assgn/BTP</a><br/>\n",
              "                Sweep page: <a href=\"https://wandb.ai/dl_assgn/BTP/sweeps/j8fefv6v\" target=\"_blank\">https://wandb.ai/dl_assgn/BTP/sweeps/j8fefv6v</a><br/>\n",
              "Run page: <a href=\"https://wandb.ai/dl_assgn/BTP/runs/oz53dtad\" target=\"_blank\">https://wandb.ai/dl_assgn/BTP/runs/oz53dtad</a><br/>\n",
              "                Run data is saved locally in <code>/content/wandb/run-20210604_194207-oz53dtad</code><br/><br/>\n",
              "            "
            ],
            "text/plain": [
              "<IPython.core.display.HTML object>"
            ]
          },
          "metadata": {
            "tags": []
          }
        },
        {
          "output_type": "stream",
          "text": [
            "\u001b[34m\u001b[1mwandb\u001b[0m: \u001b[33mWARNING\u001b[0m Calling run.save without any arguments is deprecated.Changes to attributes are automatically persisted.\n"
          ],
          "name": "stderr"
        },
        {
          "output_type": "stream",
          "text": [
            "Found 32400 images belonging to 2 classes.\n",
            "Found 3600 images belonging to 2 classes.\n",
            "Epoch 1/3\n",
            "   6/1012 [..............................] - ETA: 2:59 - loss: 0.5790 - acc: 0.6330WARNING:tensorflow:Callback method `on_train_batch_end` is slow compared to the batch time (batch time: 0.0728s vs `on_train_batch_end` time: 0.0882s). Check your callbacks.\n",
            "1012/1012 [==============================] - 194s 187ms/step - loss: 0.0689 - acc: 0.9726 - val_loss: 0.0157 - val_acc: 0.9947\n",
            "Epoch 00000: val_loss improved from inf to 0.01571, saving model to /content/wandb/run-20210604_194207-oz53dtad/files/model-best.h5\n",
            "Epoch 2/3\n",
            "1012/1012 [==============================] - 189s 186ms/step - loss: 0.0176 - acc: 0.9950 - val_loss: 0.0454 - val_acc: 0.9858\n",
            "Epoch 3/3\n",
            "1012/1012 [==============================] - 187s 185ms/step - loss: 0.0111 - acc: 0.9968 - val_loss: 0.0471 - val_acc: 0.9841\n"
          ],
          "name": "stdout"
        },
        {
          "output_type": "display_data",
          "data": {
            "text/html": [
              "<br/>Waiting for W&B process to finish, PID 1659<br/>Program ended successfully."
            ],
            "text/plain": [
              "<IPython.core.display.HTML object>"
            ]
          },
          "metadata": {
            "tags": []
          }
        },
        {
          "output_type": "display_data",
          "data": {
            "application/vnd.jupyter.widget-view+json": {
              "model_id": "59feb568bf07414e87e6251dc2a5e2bc",
              "version_minor": 0,
              "version_major": 2
            },
            "text/plain": [
              "VBox(children=(Label(value=' 113.22MB of 113.22MB uploaded (0.00MB deduped)\\r'), FloatProgress(value=1.0, max=…"
            ]
          },
          "metadata": {
            "tags": []
          }
        },
        {
          "output_type": "display_data",
          "data": {
            "text/html": [
              "Find user logs for this run at: <code>/content/wandb/run-20210604_194207-oz53dtad/logs/debug.log</code>"
            ],
            "text/plain": [
              "<IPython.core.display.HTML object>"
            ]
          },
          "metadata": {
            "tags": []
          }
        },
        {
          "output_type": "display_data",
          "data": {
            "text/html": [
              "Find internal logs for this run at: <code>/content/wandb/run-20210604_194207-oz53dtad/logs/debug-internal.log</code>"
            ],
            "text/plain": [
              "<IPython.core.display.HTML object>"
            ]
          },
          "metadata": {
            "tags": []
          }
        },
        {
          "output_type": "display_data",
          "data": {
            "text/html": [
              "<h3>Run summary:</h3><br/><style>\n",
              "    table.wandb td:nth-child(1) { padding: 0 10px; text-align: right }\n",
              "    </style><table class=\"wandb\">\n",
              "<tr><td>epoch</td><td>2</td></tr><tr><td>loss</td><td>0.01109</td></tr><tr><td>acc</td><td>0.99666</td></tr><tr><td>val_loss</td><td>0.0471</td></tr><tr><td>val_acc</td><td>0.9841</td></tr><tr><td>_runtime</td><td>591</td></tr><tr><td>_timestamp</td><td>1622836318</td></tr><tr><td>_step</td><td>2</td></tr><tr><td>best_val_loss</td><td>0.01571</td></tr><tr><td>best_epoch</td><td>0</td></tr></table>"
            ],
            "text/plain": [
              "<IPython.core.display.HTML object>"
            ]
          },
          "metadata": {
            "tags": []
          }
        },
        {
          "output_type": "display_data",
          "data": {
            "text/html": [
              "<h3>Run history:</h3><br/><style>\n",
              "    table.wandb td:nth-child(1) { padding: 0 10px; text-align: right }\n",
              "    </style><table class=\"wandb\">\n",
              "<tr><td>epoch</td><td>▁▅█</td></tr><tr><td>loss</td><td>█▂▁</td></tr><tr><td>acc</td><td>▁▇█</td></tr><tr><td>val_loss</td><td>▁██</td></tr><tr><td>val_acc</td><td>█▂▁</td></tr><tr><td>_runtime</td><td>▁▄█</td></tr><tr><td>_timestamp</td><td>▁▄█</td></tr><tr><td>_step</td><td>▁▅█</td></tr></table><br/>"
            ],
            "text/plain": [
              "<IPython.core.display.HTML object>"
            ]
          },
          "metadata": {
            "tags": []
          }
        },
        {
          "output_type": "display_data",
          "data": {
            "text/html": [
              "Synced 5 W&B file(s), 97 media file(s), 0 artifact file(s) and 2 other file(s)"
            ],
            "text/plain": [
              "<IPython.core.display.HTML object>"
            ]
          },
          "metadata": {
            "tags": []
          }
        },
        {
          "output_type": "display_data",
          "data": {
            "text/html": [
              "\n",
              "                    <br/>Synced <strong style=\"color:#cdcd00\">autumn-sweep-2</strong>: <a href=\"https://wandb.ai/dl_assgn/BTP/runs/oz53dtad\" target=\"_blank\">https://wandb.ai/dl_assgn/BTP/runs/oz53dtad</a><br/>\n",
              "                "
            ],
            "text/plain": [
              "<IPython.core.display.HTML object>"
            ]
          },
          "metadata": {
            "tags": []
          }
        },
        {
          "output_type": "stream",
          "text": [
            "\u001b[34m\u001b[1mwandb\u001b[0m: Agent Starting Run: nykrr8xj with config:\n",
            "\u001b[34m\u001b[1mwandb\u001b[0m: \tactiv: relu\n",
            "\u001b[34m\u001b[1mwandb\u001b[0m: \tbatch_size: 64\n",
            "\u001b[34m\u001b[1mwandb\u001b[0m: \tbn: 0\n",
            "\u001b[34m\u001b[1mwandb\u001b[0m: \tbn_vs_dp: dp\n",
            "\u001b[34m\u001b[1mwandb\u001b[0m: \tdata_aug: 1\n",
            "\u001b[34m\u001b[1mwandb\u001b[0m: \tdropout: 0.3\n",
            "\u001b[34m\u001b[1mwandb\u001b[0m: \tepochs: 4\n",
            "\u001b[34m\u001b[1mwandb\u001b[0m: \tfilter_org: same\n",
            "\u001b[34m\u001b[1mwandb\u001b[0m: \tker_size_input: 3\n",
            "\u001b[34m\u001b[1mwandb\u001b[0m: \tlearning_rate: 0.001\n",
            "\u001b[34m\u001b[1mwandb\u001b[0m: \tnum_filters: 32\n",
            "\u001b[34m\u001b[1mwandb\u001b[0m: \toptimizer: Adam\n"
          ],
          "name": "stderr"
        },
        {
          "output_type": "display_data",
          "data": {
            "text/html": [
              "\n",
              "                Tracking run with wandb version 0.10.31<br/>\n",
              "                Syncing run <strong style=\"color:#cdcd00\">super-sweep-3</strong> to <a href=\"https://wandb.ai\" target=\"_blank\">Weights & Biases</a> <a href=\"https://docs.wandb.com/integrations/jupyter.html\" target=\"_blank\">(Documentation)</a>.<br/>\n",
              "                Project page: <a href=\"https://wandb.ai/dl_assgn/BTP\" target=\"_blank\">https://wandb.ai/dl_assgn/BTP</a><br/>\n",
              "                Sweep page: <a href=\"https://wandb.ai/dl_assgn/BTP/sweeps/j8fefv6v\" target=\"_blank\">https://wandb.ai/dl_assgn/BTP/sweeps/j8fefv6v</a><br/>\n",
              "Run page: <a href=\"https://wandb.ai/dl_assgn/BTP/runs/nykrr8xj\" target=\"_blank\">https://wandb.ai/dl_assgn/BTP/runs/nykrr8xj</a><br/>\n",
              "                Run data is saved locally in <code>/content/wandb/run-20210604_195216-nykrr8xj</code><br/><br/>\n",
              "            "
            ],
            "text/plain": [
              "<IPython.core.display.HTML object>"
            ]
          },
          "metadata": {
            "tags": []
          }
        },
        {
          "output_type": "stream",
          "text": [
            "\u001b[34m\u001b[1mwandb\u001b[0m: \u001b[33mWARNING\u001b[0m Calling run.save without any arguments is deprecated.Changes to attributes are automatically persisted.\n"
          ],
          "name": "stderr"
        },
        {
          "output_type": "stream",
          "text": [
            "Found 32400 images belonging to 2 classes.\n",
            "Found 3600 images belonging to 2 classes.\n",
            "Epoch 1/4\n",
            "351/506 [===================>..........] - ETA: 2:21 - loss: 0.3218 - acc: 0.8503"
          ],
          "name": "stdout"
        }
      ]
    },
    {
      "cell_type": "code",
      "metadata": {
        "id": "blGCkrOzj5Be"
      },
      "source": [
        ""
      ],
      "execution_count": null,
      "outputs": []
    }
  ]
}